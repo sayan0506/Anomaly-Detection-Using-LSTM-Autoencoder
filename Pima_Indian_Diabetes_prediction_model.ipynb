{
  "nbformat": 4,
  "nbformat_minor": 0,
  "metadata": {
    "colab": {
      "name": "Pima Indian Diabetes prediction model.ipynb",
      "provenance": [],
      "collapsed_sections": [],
      "toc_visible": true,
      "mount_file_id": "1VpH_LVOwRhrAiGAXdGR0nC8iCoOzWZm3",
      "authorship_tag": "ABX9TyNIQqGA8+qXxbBcT2yAXeQk",
      "include_colab_link": true
    },
    "kernelspec": {
      "name": "python3",
      "display_name": "Python 3"
    },
    "accelerator": "GPU"
  },
  "cells": [
    {
      "cell_type": "markdown",
      "metadata": {
        "id": "view-in-github",
        "colab_type": "text"
      },
      "source": [
        "<a href=\"https://colab.research.google.com/github/sayan0506/Anomaly-Detection-Using-LSTM-Autoencoder/blob/main/Pima_Indian_Diabetes_prediction_model.ipynb\" target=\"_parent\"><img src=\"https://colab.research.google.com/assets/colab-badge.svg\" alt=\"Open In Colab\"/></a>"
      ]
    },
    {
      "cell_type": "markdown",
      "metadata": {
        "id": "wjapx_FSsjjU"
      },
      "source": [
        "# **What is Diabetes?**\r\n",
        "\r\n",
        "* Diabetes is a disease that occurs when your blood glucose, also called blood sugar, is too high. Blood glucose is your main source of energy and comes from the food you eat. Insulin, a hormone made by the pancreas, helps glucose from food get into your cells to be used for energy. Sometimes your body doesn’t make enough—or any—insulin or doesn’t use insulin well. Glucose then stays in your blood and doesn’t reach your cells.\r\n",
        "\r\n",
        "* Over time, having too much glucose in your blood can cause health problems. Although diabetes has no cure, you can take steps to manage your diabetes and stay healthy.\r\n",
        "\r\n",
        "* Sometimes people call diabetes “a touch of sugar” or “borderline diabetes.” These terms suggest that someone doesn’t really have diabetes or has a less serious case, but every case of diabetes is serious."
      ]
    },
    {
      "cell_type": "markdown",
      "metadata": {
        "id": "IjJX7Nq1tlDr"
      },
      "source": [
        "**What health problems can people with diabetes develop?**\r\n",
        "\r\n",
        "Over time, high blood glucose leads to problems such as\r\n",
        "\r\n",
        "* heart disease\r\n",
        "* stroke\r\n",
        "* kidney disease\r\n",
        "* eye problems\r\n",
        "* dental disease\r\n",
        "* nerve damage\r\n",
        "* foot problems"
      ]
    },
    {
      "cell_type": "markdown",
      "metadata": {
        "id": "NGsJ5KC2vo9A"
      },
      "source": [
        "# Importing Libraries"
      ]
    },
    {
      "cell_type": "code",
      "metadata": {
        "id": "rMJWz4RdvoAI"
      },
      "source": [
        "import pandas as pd\r\n",
        "import numpy as np\r\n",
        "import seaborn as sns\r\n",
        "from matplotlib import pyplot as plt\r\n",
        "import matplotlib as mpl\r\n",
        "\r\n",
        "# changing the matplotlib font colors to 'white'\r\n",
        "COLOR = 'white'\r\n",
        "mpl.rcParams['text.color'] = COLOR\r\n",
        "mpl.rcParams['axes.labelcolor'] = COLOR\r\n",
        "mpl.rcParams['xtick.color'] = COLOR\r\n",
        "mpl.rcParams['ytick.color'] = COLOR"
      ],
      "execution_count": 86,
      "outputs": []
    },
    {
      "cell_type": "markdown",
      "metadata": {
        "id": "HY-OVHW2wISK"
      },
      "source": [
        "# Dataset \r\n",
        "\r\n",
        "* Pima indian diabetes dataset is available [here](https://github.com/sayan0506/COVID19-Medical-problem-based-modelling-project/blob/main/Dataset/diabetes.csv)\r\n",
        "\r\n",
        "* This dataset contains data on female patients at least 21 years old of Pima Indian heritage.\r\n",
        "\r\n",
        "[Dataset reference](https://data.world/uci/pima-indians-diabetes)\r\n"
      ]
    },
    {
      "cell_type": "code",
      "metadata": {
        "id": "Mz3y90b33ALI",
        "colab": {
          "base_uri": "https://localhost:8080/",
          "height": 391
        },
        "outputId": "c623b4e7-a069-4cd0-b9de-c78f9c37c8fd"
      },
      "source": [
        "# Drive mount sand dataset fetching from the drive\r\n",
        "\r\n",
        "# dataframe\r\n",
        "df = pd.read_csv('/content/drive/MyDrive/Diabetes dataset/diabetes.csv')\r\n",
        "df"
      ],
      "execution_count": 2,
      "outputs": [
        {
          "output_type": "execute_result",
          "data": {
            "text/html": [
              "<div>\n",
              "<style scoped>\n",
              "    .dataframe tbody tr th:only-of-type {\n",
              "        vertical-align: middle;\n",
              "    }\n",
              "\n",
              "    .dataframe tbody tr th {\n",
              "        vertical-align: top;\n",
              "    }\n",
              "\n",
              "    .dataframe thead th {\n",
              "        text-align: right;\n",
              "    }\n",
              "</style>\n",
              "<table border=\"1\" class=\"dataframe\">\n",
              "  <thead>\n",
              "    <tr style=\"text-align: right;\">\n",
              "      <th></th>\n",
              "      <th>Pregnancies</th>\n",
              "      <th>Glucose</th>\n",
              "      <th>BloodPressure</th>\n",
              "      <th>SkinThickness</th>\n",
              "      <th>Insulin</th>\n",
              "      <th>BMI</th>\n",
              "      <th>DiabetesPedigreeFunction</th>\n",
              "      <th>Age</th>\n",
              "      <th>Outcome</th>\n",
              "    </tr>\n",
              "  </thead>\n",
              "  <tbody>\n",
              "    <tr>\n",
              "      <th>0</th>\n",
              "      <td>6</td>\n",
              "      <td>148</td>\n",
              "      <td>72</td>\n",
              "      <td>35</td>\n",
              "      <td>0</td>\n",
              "      <td>33.6</td>\n",
              "      <td>0.627</td>\n",
              "      <td>50</td>\n",
              "      <td>1</td>\n",
              "    </tr>\n",
              "    <tr>\n",
              "      <th>1</th>\n",
              "      <td>1</td>\n",
              "      <td>85</td>\n",
              "      <td>66</td>\n",
              "      <td>29</td>\n",
              "      <td>0</td>\n",
              "      <td>26.6</td>\n",
              "      <td>0.351</td>\n",
              "      <td>31</td>\n",
              "      <td>0</td>\n",
              "    </tr>\n",
              "    <tr>\n",
              "      <th>2</th>\n",
              "      <td>8</td>\n",
              "      <td>183</td>\n",
              "      <td>64</td>\n",
              "      <td>0</td>\n",
              "      <td>0</td>\n",
              "      <td>23.3</td>\n",
              "      <td>0.672</td>\n",
              "      <td>32</td>\n",
              "      <td>1</td>\n",
              "    </tr>\n",
              "    <tr>\n",
              "      <th>3</th>\n",
              "      <td>1</td>\n",
              "      <td>89</td>\n",
              "      <td>66</td>\n",
              "      <td>23</td>\n",
              "      <td>94</td>\n",
              "      <td>28.1</td>\n",
              "      <td>0.167</td>\n",
              "      <td>21</td>\n",
              "      <td>0</td>\n",
              "    </tr>\n",
              "    <tr>\n",
              "      <th>4</th>\n",
              "      <td>0</td>\n",
              "      <td>137</td>\n",
              "      <td>40</td>\n",
              "      <td>35</td>\n",
              "      <td>168</td>\n",
              "      <td>43.1</td>\n",
              "      <td>2.288</td>\n",
              "      <td>33</td>\n",
              "      <td>1</td>\n",
              "    </tr>\n",
              "    <tr>\n",
              "      <th>...</th>\n",
              "      <td>...</td>\n",
              "      <td>...</td>\n",
              "      <td>...</td>\n",
              "      <td>...</td>\n",
              "      <td>...</td>\n",
              "      <td>...</td>\n",
              "      <td>...</td>\n",
              "      <td>...</td>\n",
              "      <td>...</td>\n",
              "    </tr>\n",
              "    <tr>\n",
              "      <th>763</th>\n",
              "      <td>10</td>\n",
              "      <td>101</td>\n",
              "      <td>76</td>\n",
              "      <td>48</td>\n",
              "      <td>180</td>\n",
              "      <td>32.9</td>\n",
              "      <td>0.171</td>\n",
              "      <td>63</td>\n",
              "      <td>0</td>\n",
              "    </tr>\n",
              "    <tr>\n",
              "      <th>764</th>\n",
              "      <td>2</td>\n",
              "      <td>122</td>\n",
              "      <td>70</td>\n",
              "      <td>27</td>\n",
              "      <td>0</td>\n",
              "      <td>36.8</td>\n",
              "      <td>0.340</td>\n",
              "      <td>27</td>\n",
              "      <td>0</td>\n",
              "    </tr>\n",
              "    <tr>\n",
              "      <th>765</th>\n",
              "      <td>5</td>\n",
              "      <td>121</td>\n",
              "      <td>72</td>\n",
              "      <td>23</td>\n",
              "      <td>112</td>\n",
              "      <td>26.2</td>\n",
              "      <td>0.245</td>\n",
              "      <td>30</td>\n",
              "      <td>0</td>\n",
              "    </tr>\n",
              "    <tr>\n",
              "      <th>766</th>\n",
              "      <td>1</td>\n",
              "      <td>126</td>\n",
              "      <td>60</td>\n",
              "      <td>0</td>\n",
              "      <td>0</td>\n",
              "      <td>30.1</td>\n",
              "      <td>0.349</td>\n",
              "      <td>47</td>\n",
              "      <td>1</td>\n",
              "    </tr>\n",
              "    <tr>\n",
              "      <th>767</th>\n",
              "      <td>1</td>\n",
              "      <td>93</td>\n",
              "      <td>70</td>\n",
              "      <td>31</td>\n",
              "      <td>0</td>\n",
              "      <td>30.4</td>\n",
              "      <td>0.315</td>\n",
              "      <td>23</td>\n",
              "      <td>0</td>\n",
              "    </tr>\n",
              "  </tbody>\n",
              "</table>\n",
              "<p>768 rows × 9 columns</p>\n",
              "</div>"
            ],
            "text/plain": [
              "     Pregnancies  Glucose  ...  Age  Outcome\n",
              "0              6      148  ...   50        1\n",
              "1              1       85  ...   31        0\n",
              "2              8      183  ...   32        1\n",
              "3              1       89  ...   21        0\n",
              "4              0      137  ...   33        1\n",
              "..           ...      ...  ...  ...      ...\n",
              "763           10      101  ...   63        0\n",
              "764            2      122  ...   27        0\n",
              "765            5      121  ...   30        0\n",
              "766            1      126  ...   47        1\n",
              "767            1       93  ...   23        0\n",
              "\n",
              "[768 rows x 9 columns]"
            ]
          },
          "metadata": {
            "tags": []
          },
          "execution_count": 2
        }
      ]
    },
    {
      "cell_type": "markdown",
      "metadata": {
        "id": "OTXeH2q7w7mm"
      },
      "source": [
        "# Data Inspection\r\n",
        "**Data Understanding**\r\n",
        "\r\n",
        "* Pregnancies: Number of times pregnant\r\n",
        "* Glucose: Plasma glucose concentration a 2 hours in an oral glucose tolerance test [Refernce](https://www.mayoclinic.org/tests-procedures/glucose-tolerance-test/about/pac-20394296)\r\n",
        "* BloodPressure: Diastolic blood pressure (mm Hg) [Refernce](https://www.webmd.com/hypertension-high-blood-pressure/qa/what-is-systolic-and-diastolic-blood-pressure)\r\n",
        "* SkinThickness: Triceps skin fold thickness (mm) [Refernce](https://nutritionalassessment.mumc.nl/en/skinfold-measurements)\r\n",
        "* Insulin: 2-Hour serum insulin (mu U/ml) [Refernce](https://medlineplus.gov/lab-tests/insulin-in-blood/)\r\n",
        "* BMI: Body mass index (weight in kg/(height in m)^2)\r\n",
        "* DiabetesPedigreeFunction: Diabetes pedigree function (Diabetes pedigree function a function which scores likelihood of diabetes based on family history)[Reference](https://machinelearningmastery.com/case-study-predicting-the-onset-of-diabetes-within-five-years-part-1-of-3/)\r\n",
        "* Age: Age (years) \r\n",
        "* Outcome: Class variable (0 or 1)\r\n",
        "\r\n",
        "**[Data undestanding reference](https://machinelearningmastery.com/case-study-predicting-the-onset-of-diabetes-within-five-years-part-1-of-3/)**"
      ]
    },
    {
      "cell_type": "code",
      "metadata": {
        "id": "ov2Fxu9Qqhwc",
        "colab": {
          "base_uri": "https://localhost:8080/",
          "height": 277
        },
        "outputId": "dcd6046d-e716-41e9-bfb1-fcfd549dd7ba"
      },
      "source": [
        "# statistical analysis\r\n",
        "df.describe()"
      ],
      "execution_count": 6,
      "outputs": [
        {
          "output_type": "execute_result",
          "data": {
            "text/html": [
              "<div>\n",
              "<style scoped>\n",
              "    .dataframe tbody tr th:only-of-type {\n",
              "        vertical-align: middle;\n",
              "    }\n",
              "\n",
              "    .dataframe tbody tr th {\n",
              "        vertical-align: top;\n",
              "    }\n",
              "\n",
              "    .dataframe thead th {\n",
              "        text-align: right;\n",
              "    }\n",
              "</style>\n",
              "<table border=\"1\" class=\"dataframe\">\n",
              "  <thead>\n",
              "    <tr style=\"text-align: right;\">\n",
              "      <th></th>\n",
              "      <th>Pregnancies</th>\n",
              "      <th>Glucose</th>\n",
              "      <th>BloodPressure</th>\n",
              "      <th>SkinThickness</th>\n",
              "      <th>Insulin</th>\n",
              "      <th>BMI</th>\n",
              "      <th>DiabetesPedigreeFunction</th>\n",
              "      <th>Age</th>\n",
              "      <th>Outcome</th>\n",
              "    </tr>\n",
              "  </thead>\n",
              "  <tbody>\n",
              "    <tr>\n",
              "      <th>count</th>\n",
              "      <td>768.000000</td>\n",
              "      <td>768.000000</td>\n",
              "      <td>768.000000</td>\n",
              "      <td>768.000000</td>\n",
              "      <td>768.000000</td>\n",
              "      <td>768.000000</td>\n",
              "      <td>768.000000</td>\n",
              "      <td>768.000000</td>\n",
              "      <td>768.000000</td>\n",
              "    </tr>\n",
              "    <tr>\n",
              "      <th>mean</th>\n",
              "      <td>3.845052</td>\n",
              "      <td>120.894531</td>\n",
              "      <td>69.105469</td>\n",
              "      <td>20.536458</td>\n",
              "      <td>79.799479</td>\n",
              "      <td>31.992578</td>\n",
              "      <td>0.471876</td>\n",
              "      <td>33.240885</td>\n",
              "      <td>0.348958</td>\n",
              "    </tr>\n",
              "    <tr>\n",
              "      <th>std</th>\n",
              "      <td>3.369578</td>\n",
              "      <td>31.972618</td>\n",
              "      <td>19.355807</td>\n",
              "      <td>15.952218</td>\n",
              "      <td>115.244002</td>\n",
              "      <td>7.884160</td>\n",
              "      <td>0.331329</td>\n",
              "      <td>11.760232</td>\n",
              "      <td>0.476951</td>\n",
              "    </tr>\n",
              "    <tr>\n",
              "      <th>min</th>\n",
              "      <td>0.000000</td>\n",
              "      <td>0.000000</td>\n",
              "      <td>0.000000</td>\n",
              "      <td>0.000000</td>\n",
              "      <td>0.000000</td>\n",
              "      <td>0.000000</td>\n",
              "      <td>0.078000</td>\n",
              "      <td>21.000000</td>\n",
              "      <td>0.000000</td>\n",
              "    </tr>\n",
              "    <tr>\n",
              "      <th>25%</th>\n",
              "      <td>1.000000</td>\n",
              "      <td>99.000000</td>\n",
              "      <td>62.000000</td>\n",
              "      <td>0.000000</td>\n",
              "      <td>0.000000</td>\n",
              "      <td>27.300000</td>\n",
              "      <td>0.243750</td>\n",
              "      <td>24.000000</td>\n",
              "      <td>0.000000</td>\n",
              "    </tr>\n",
              "    <tr>\n",
              "      <th>50%</th>\n",
              "      <td>3.000000</td>\n",
              "      <td>117.000000</td>\n",
              "      <td>72.000000</td>\n",
              "      <td>23.000000</td>\n",
              "      <td>30.500000</td>\n",
              "      <td>32.000000</td>\n",
              "      <td>0.372500</td>\n",
              "      <td>29.000000</td>\n",
              "      <td>0.000000</td>\n",
              "    </tr>\n",
              "    <tr>\n",
              "      <th>75%</th>\n",
              "      <td>6.000000</td>\n",
              "      <td>140.250000</td>\n",
              "      <td>80.000000</td>\n",
              "      <td>32.000000</td>\n",
              "      <td>127.250000</td>\n",
              "      <td>36.600000</td>\n",
              "      <td>0.626250</td>\n",
              "      <td>41.000000</td>\n",
              "      <td>1.000000</td>\n",
              "    </tr>\n",
              "    <tr>\n",
              "      <th>max</th>\n",
              "      <td>17.000000</td>\n",
              "      <td>199.000000</td>\n",
              "      <td>122.000000</td>\n",
              "      <td>99.000000</td>\n",
              "      <td>846.000000</td>\n",
              "      <td>67.100000</td>\n",
              "      <td>2.420000</td>\n",
              "      <td>81.000000</td>\n",
              "      <td>1.000000</td>\n",
              "    </tr>\n",
              "  </tbody>\n",
              "</table>\n",
              "</div>"
            ],
            "text/plain": [
              "       Pregnancies     Glucose  ...         Age     Outcome\n",
              "count   768.000000  768.000000  ...  768.000000  768.000000\n",
              "mean      3.845052  120.894531  ...   33.240885    0.348958\n",
              "std       3.369578   31.972618  ...   11.760232    0.476951\n",
              "min       0.000000    0.000000  ...   21.000000    0.000000\n",
              "25%       1.000000   99.000000  ...   24.000000    0.000000\n",
              "50%       3.000000  117.000000  ...   29.000000    0.000000\n",
              "75%       6.000000  140.250000  ...   41.000000    1.000000\n",
              "max      17.000000  199.000000  ...   81.000000    1.000000\n",
              "\n",
              "[8 rows x 9 columns]"
            ]
          },
          "metadata": {
            "tags": []
          },
          "execution_count": 6
        }
      ]
    },
    {
      "cell_type": "markdown",
      "metadata": {
        "id": "74K47DvH8e8Z"
      },
      "source": [
        "* From the above table, the min values of Glucose, BMI, BloodPressure, SkinThickness, Insulin ; such values cannot be expected to be 0.\r\n",
        "* For example, having a blood pressure of 0 indicates that the person is dead.\r\n",
        "* Therefore, it would be more correct to assign NaN instead of 0 values in the variables we choose \r\n",
        "* We need to explore the missing values in the features and do exffective, appropriate missing value treatment.\r\n",
        "* This disguised missing data would mislead our later classification attempts, if we don't do missing value treatment."
      ]
    },
    {
      "cell_type": "markdown",
      "metadata": {
        "id": "DCX33m819r1_"
      },
      "source": [
        "**Dataset information**"
      ]
    },
    {
      "cell_type": "code",
      "metadata": {
        "colab": {
          "base_uri": "https://localhost:8080/"
        },
        "id": "lo63isLK43AV",
        "outputId": "54f772ce-9320-4f71-f36c-c21a27b15659"
      },
      "source": [
        "def info(df):\r\n",
        "  print(df.info())\r\n",
        "  print(f'Input features: {df.columns[:-1]}')\r\n",
        "  # df.isna() returns boolean for all values, whereas df.isna().values.any() return only missing values if any exist corresponding to the features\r\n",
        "  print(f'Missing value check(NaN, Null): {df.isna().values.any(), df.isnull().values.any()}')\r\n",
        "\r\n",
        "# info check\r\n",
        "info(df)"
      ],
      "execution_count": 20,
      "outputs": [
        {
          "output_type": "stream",
          "text": [
            "<class 'pandas.core.frame.DataFrame'>\n",
            "RangeIndex: 768 entries, 0 to 767\n",
            "Data columns (total 9 columns):\n",
            " #   Column                    Non-Null Count  Dtype  \n",
            "---  ------                    --------------  -----  \n",
            " 0   Pregnancies               768 non-null    int64  \n",
            " 1   Glucose                   768 non-null    int64  \n",
            " 2   BloodPressure             768 non-null    int64  \n",
            " 3   SkinThickness             768 non-null    int64  \n",
            " 4   Insulin                   768 non-null    int64  \n",
            " 5   BMI                       768 non-null    float64\n",
            " 6   DiabetesPedigreeFunction  768 non-null    float64\n",
            " 7   Age                       768 non-null    int64  \n",
            " 8   Outcome                   768 non-null    int64  \n",
            "dtypes: float64(2), int64(7)\n",
            "memory usage: 54.1 KB\n",
            "None\n",
            "Input features: Index(['Pregnancies', 'Glucose', 'BloodPressure', 'SkinThickness', 'Insulin',\n",
            "       'BMI', 'DiabetesPedigreeFunction', 'Age'],\n",
            "      dtype='object')\n",
            "Missing value check(NaN, Null): (False, False)\n"
          ],
          "name": "stdout"
        }
      ]
    },
    {
      "cell_type": "markdown",
      "metadata": {
        "id": "21HzJLKHA1V1"
      },
      "source": [
        "**Kurtosis and Skewness check using histogram plot**"
      ]
    },
    {
      "cell_type": "code",
      "metadata": {
        "colab": {
          "base_uri": "https://localhost:8080/",
          "height": 1000
        },
        "id": "UrKKQf3yA0Ha",
        "outputId": "af316942-6f2d-4153-c670-7e143f75b05f"
      },
      "source": [
        "def hist_inspect(df):\r\n",
        "  print('Histogram representation')\r\n",
        "  fig = plt.figure(figsize=(15,20))\r\n",
        "  r = len(df.columns)/3\r\n",
        "  for i, col in enumerate(df.columns):\r\n",
        "    fig.add_subplot(r,3,i+1)\r\n",
        "    df[col].hist()\r\n",
        "    plt.xlabel(f'Skew:  {df[col].skew()}\\nKurtosis:  {df[col].kurtosis()}\\n')\r\n",
        "    plt.title(f'{df.columns[i]}')\r\n",
        "  plt.show()\r\n",
        "\r\n",
        "# histogram\r\n",
        "hist_inspect(df)\r\n"
      ],
      "execution_count": 85,
      "outputs": [
        {
          "output_type": "stream",
          "text": [
            "Histogram representation\n"
          ],
          "name": "stdout"
        },
        {
          "output_type": "display_data",
          "data": {
            "image/png": "[encoded data removed]",
            "text/plain": [
              "<Figure size 1080x1440 with 9 Axes>"
            ]
          },
          "metadata": {
            "tags": [],
            "needs_background": "dark"
          }
        }
      ]
    },
    {
      "cell_type": "markdown",
      "metadata": {
        "id": "JVd9bXgwInkw"
      },
      "source": [
        "**Here we don't need to really worry with the skewness and kurtosis corrction of the data, rather focus on other EDA, or later we can focus on these two moments correction.**\r\n",
        "\r\n",
        "* [Reference](https://www.spcforexcel.com/knowledge/basic-statistics/are-skewness-and-kurtosis-useful-statistics)\r\n",
        "* Further study: [TO DETERMINE SKEWNESS, MEAN AND DEVIATION WITH A NEW APPROACH ON CONTINUOUS DATA](https://www.researchgate.net/publication/314032599_TO_DETERMINE_SKEWNESS_MEAN_AND_DEVIATION_WITH_A_NEW_APPROACH_ON_CONTINUOUS_DATA)"
      ]
    },
    {
      "cell_type": "markdown",
      "metadata": {
        "id": "bATUCJOsfACe"
      },
      "source": [
        "**Variable type explore**\r\n",
        "\r\n"
      ]
    },
    {
      "cell_type": "code",
      "metadata": {
        "colab": {
          "base_uri": "https://localhost:8080/"
        },
        "id": "u2i4URXlARsb",
        "outputId": "e27f09f4-8c67-4827-9298-6dd48f2853dd"
      },
      "source": [
        "def var_explore(df):\r\n",
        "  # for categorical generally 'object' type or 'O' used \r\n",
        "  cat_var = [col for col in df.columns if df[col].dtype == 'O' \r\n",
        "             and col!='Outcome']\r\n",
        "  num_var = [col for col in df.columns if df[col].dtype != 'O' \r\n",
        "             and col!='Outcome']\r\n",
        "  other_var = [col for col in df.columns if df[col].dtype != 'O'\r\n",
        "             and col not in num_var\r\n",
        "             and col!='Outcome']\r\n",
        "  print(f'Categorical type variables: \\n{cat_var}')\r\n",
        "  print(f'Numerical type variables: \\n{num_var}')\r\n",
        "  print(f'Other type variables: \\n{other_var}')\r\n",
        "\r\n",
        "var_explore(df)"
      ],
      "execution_count": 62,
      "outputs": [
        {
          "output_type": "stream",
          "text": [
            "Categorical type variables: \n",
            "[]\n",
            "Numerical type variables: \n",
            "['Pregnancies', 'Glucose', 'BloodPressure', 'SkinThickness', 'Insulin', 'BMI', 'DiabetesPedigreeFunction', 'Age']\n",
            "Other type variables: \n",
            "[]\n"
          ],
          "name": "stdout"
        }
      ]
    },
    {
      "cell_type": "markdown",
      "metadata": {
        "id": "V53fVeGHiSH_"
      },
      "source": [
        "**Explore Missing Values**\r\n",
        "\r\n",
        "* From the **data understanding** section we found there are probable missing values(As 0 values are physically implausible) for **[Glucose, BloodPressure, SkinThickness, Insulin, BMI]**.\r\n",
        "\r\n",
        "* Thus, we need to replace those 0 values to **Nan** or **Null** for further missing value analysis and treatment. "
      ]
    },
    {
      "cell_type": "code",
      "metadata": {
        "id": "EZ85WdQlgSFu"
      },
      "source": [
        "# columns contain missing values\r\n",
        "missing_val_columns = ['Glucose', 'BloodPressure', 'SkinThickness', 'Insulin', 'BMI']\r\n",
        "\r\n",
        "df_mod = df.copy()\r\n",
        "# replace 0 with Nan\r\n",
        "for col in missing_val_columns:\r\n",
        "  df_mod[col] = df[col].replace(0, np.NaN)\r\n",
        "\r\n",
        "# df_mod is the copied version of df, else the change in df_copy would affect change in df"
      ],
      "execution_count": 70,
      "outputs": []
    },
    {
      "cell_type": "markdown",
      "metadata": {
        "id": "iV81DeB1lDS8"
      },
      "source": [
        "**Missing value analysis**"
      ]
    },
    {
      "cell_type": "code",
      "metadata": {
        "colab": {
          "base_uri": "https://localhost:8080/"
        },
        "id": "HxKgVQ7nlBYE",
        "outputId": "61e32b17-81c4-4089-e87b-ab4dce631b50"
      },
      "source": [
        "def missing_value_inspect(df):\r\n",
        "  # obtaining the list of features where the missing value exists\r\n",
        "  cols_with_missing = [col for col in df_mod.columns if df_mod[col].isnull().sum() > 0]\r\n",
        "  \r\n",
        "  #returns a series containing the list of missing columns along with misssing value count in descending order \r\n",
        "  miss_count = df[cols_with_missing].isnull().sum().sort_values(ascending = False)\r\n",
        "\r\n",
        "  # percentage of missing data which also returns a series with percentage of missing data in descending order\r\n",
        "  miss_percentage = (df[cols_with_missing].isnull().sum()/df.shape[0]*100).sort_values(ascending = False)\r\n",
        "  \r\n",
        "  # concatenation(axis = 1 for column wise concatenation or concatenate columns)\r\n",
        "  missing_df = pd.concat([miss_count, miss_percentage], axis = 1, keys=['missing_count', 'missing_percentage'])\r\n",
        "\r\n",
        "  print(f'Missing value inspection result \\n{missing_df}')\r\n",
        "\r\n",
        "# missing data explore\r\n",
        "missing_value_inspect(df_mod)"
      ],
      "execution_count": 80,
      "outputs": [
        {
          "output_type": "stream",
          "text": [
            "Missing value inspection result \n",
            "               missing_count  missing_percentage\n",
            "Insulin                  374           48.697917\n",
            "SkinThickness            227           29.557292\n",
            "BloodPressure             35            4.557292\n",
            "BMI                       11            1.432292\n",
            "Glucose                    5            0.651042\n"
          ],
          "name": "stdout"
        }
      ]
    },
    {
      "cell_type": "markdown",
      "metadata": {
        "id": "qAMlnJBAtjL2"
      },
      "source": [
        "# Missing Value Treatment\r\n",
        "\r\n",
        "**Reference**\r\n",
        "\r\n",
        "* [Handling Missing Data for Advanced Machine Learning](https://medium.com/towards-artificial-intelligence/handling-missing-data-for-advanced-machine-learning-b6eb89050357)\r\n",
        "* [7 Ways to Handle Missing Values in Machine Learning](https://towardsdatascience.com/7-ways-to-handle-missing-values-in-machine-learning-1a6326adf79e)\r\n",
        "* [What are the Different Types of Missing Data?\r\n",
        "](https://www.displayr.com/different-types-of-missing-data/)\r\n",
        "* [Methods of Missing Value Treatment and their effect on the\r\n",
        "Accuracy of Classification Models](https://www.researchgate.net/profile/Archish_Kapil/publication/328556287_Methods_of_Missing_Value_Treatment_and_their_effect_on_the_Accuracy_of_Classification_Models/links/5bd4438f92851c6b27922ca4/Methods-of-Missing-Value-Treatment-and-their-effect-on-the-Accuracy-of-Classification-Models.pdf)"
      ]
    },
    {
      "cell_type": "code",
      "metadata": {
        "id": "vOY627rpmkLD"
      },
      "source": [
        ""
      ],
      "execution_count": null,
      "outputs": []
    }
  ]
}